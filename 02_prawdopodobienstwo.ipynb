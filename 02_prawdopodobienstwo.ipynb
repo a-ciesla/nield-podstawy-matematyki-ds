{
 "cells": [
  {
   "cell_type": "markdown",
   "id": "4c1dbb70-6361-4966-812f-dee074143f9b",
   "metadata": {},
   "source": [
    "# 2. Prawdopodobieństwo"
   ]
  },
  {
   "cell_type": "code",
   "execution_count": 2,
   "id": "85674e75-eec8-46fc-b02f-d510825e5ea2",
   "metadata": {},
   "outputs": [],
   "source": [
    "import scipy.stats as stats"
   ]
  },
  {
   "cell_type": "markdown",
   "id": "4bdb9cb2-c1a2-4aa9-b9ad-457d8ba061b1",
   "metadata": {},
   "source": [
    "## Szansa $O(X)$"
   ]
  },
  {
   "cell_type": "markdown",
   "id": "f8bc050f-ab17-406a-8e38-e06189c11e6b",
   "metadata": {},
   "source": [
    "Jednym ze sposobów wyrażania prawdopodbieństwa jest szansa wyrażana przez $O(X)$. Przykładowo, szansa $O(X)=2,0$ oznacza, że uważam, że jest dwukrotnie bardziej prawdopodobne, że dojdzie do zdarzenia $X$ niż że do niego nie dojdzie. Jest to równoznaczne prawdopodobieństwu $P(X) \\approx 66,66\\%$."
   ]
  },
  {
   "cell_type": "markdown",
   "id": "2d1dbbfe-405c-42d9-8265-acd59dd31155",
   "metadata": {},
   "source": [
    "Oto wzór na przekształcenie szansy $O(X)$ w proprocjonalne prawdopodobieństwo $P(X)$ i vice versa:"
   ]
  },
  {
   "cell_type": "markdown",
   "id": "6be9d6b0-9bb6-4160-b1fd-6f1ed2c0c4f7",
   "metadata": {},
   "source": [
    "$$P(X)=\\frac{O(X)}{1+O(X)}$$\n",
    "$$O(X)=\\frac{P(X)}{1-P(X)}$$"
   ]
  },
  {
   "cell_type": "markdown",
   "id": "3a2e6fbe-0edd-4db4-97ad-02ec687d73c8",
   "metadata": {},
   "source": [
    "## Prawdopodobieństwo warunkowe i twierdzenie Bayesa"
   ]
  },
  {
   "cell_type": "markdown",
   "id": "c27c89e4-824b-48c0-93f8-a9a42fc3047d",
   "metadata": {},
   "source": [
    "Prawdopodobieństwo warunkowe to szansa zajścia zdarzenia $A$, pod warunkiem że zaszło zdarzenie $B$, czyli jak zmienia się prawdopodobieństwo $A$, gdy wiemy, że $B$ wystąpiło. Wyrażamy je wzorem:\n",
    "$$P(A \\mid B) = \\frac{P(A \\cap B)}{P(B)}$$"
   ]
  },
  {
   "cell_type": "markdown",
   "id": "fc768811-88fb-41c3-ade3-6dc2418b5e79",
   "metadata": {},
   "source": [
    "Twierdzenie Bayesa pozwala odwrócić warunek, czyli obliczyć prawdopodobieństwo $B$ pod warunkiem $A$, znając prawdopodobieństwa odwrotne i ogólne:\n",
    "$$P(B\\mid A)=\\frac{P(A\\mid B) P(B)}{P(A)}$$"
   ]
  },
  {
   "cell_type": "markdown",
   "id": "fc59dcba-f156-49fb-a195-56b9f88a572e",
   "metadata": {},
   "source": [
    "Twierdzenie Bayesa przydaje się przede wszystkim do aktualizacji szans (prawdopodobieństw) na zdarzenia w świetle nowych informacji — np. w medycynie do diagnozowania chorób na podstawie wyników testów lub w uczeniu maszynowym do klasyfikacji danych czy w analizie ryzyka, gdzie pozwala wyciągać bardziej precyzyjne wnioski, łącząc wcześniejsze przekonania z obserwacjami.\n",
    "\n",
    "Tak możemy użyć tw. Bayesa w Pythonie w badaniu prawdopodobieństwa tego, że ktoś zachorował raka, jeśli pije kawę:"
   ]
  },
  {
   "cell_type": "code",
   "execution_count": 2,
   "id": "a9ad0ad1-377e-4e87-8d03-ca783c2a5747",
   "metadata": {},
   "outputs": [
    {
     "name": "stdout",
     "output_type": "stream",
     "text": [
      "Prawdopodobieństwo, że ktoś zachorował na raka, jeśli pije kawę: 0.006538461538461539\n"
     ]
    }
   ],
   "source": [
    "p_picie_kawy = .65 # prawdopodobieństwo, że wybrana osoba pije kawę\n",
    "p_rak = .005 # prawdopodobieństwo, że wybrana osoba ma raka\n",
    "p_picie_kawy_jesli_rak = .85 # prawdopodobieństwo, że wybrana osoba ma raka pod warunkiem że pije kawę\n",
    "\n",
    "# Twierdzenie Bayesa\n",
    "p_rak_jesli_picie_kawy = (p_picie_kawy_jesli_rak * p_rak) / p_picie_kawy\n",
    "\n",
    "print(f\"Prawdopodobieństwo, że ktoś zachorował na raka, jeśli pije kawę: {p_rak_jesli_picie_kawy}\")"
   ]
  },
  {
   "cell_type": "markdown",
   "id": "35dee954-2b34-4884-83ca-c1c6ccddd5a5",
   "metadata": {},
   "source": [
    "## Rozkład dwumianowy lub rozkład Bernoulliego"
   ]
  },
  {
   "cell_type": "markdown",
   "id": "33f07891-1552-4f04-b17f-68c2f4398c5b",
   "metadata": {},
   "source": [
    "Schemat Bernoulliego to pojedyncza próba losowa z dwoma możliwymi wynikami: sukces (z prawdopodobieństwem $p$) lub porażka (z prawdopodobieństwem $1-p$).\n",
    "\n",
    "Rozkład dwumianowy natomiast opisuje sumę wyników $k$ sukcesów w $n$ niezależnych próbach Bernoulliego — czyli jest rozszerzeniem pojedynczej próby na cały ciąg powtórzeń tego eksperymentu. Wyraża się go następującym wzorem:\n",
    "$$P(X = k) = \\binom{n}{k} p^k (1-p)^{n-k}, \\quad k = 0, 1, \\ldots, n$$"
   ]
  },
  {
   "cell_type": "markdown",
   "id": "da1630aa-e43a-4ce7-9c14-99a2f2558d89",
   "metadata": {},
   "source": [
    "Rozkład dwumianowy z wykorzystaniem SciPy:"
   ]
  },
  {
   "cell_type": "code",
   "execution_count": 9,
   "id": "2c34023f-289d-4140-8676-f77be7ee3dc3",
   "metadata": {},
   "outputs": [
    {
     "name": "stdout",
     "output_type": "stream",
     "text": [
      "Liczba sukcesów 0: prawdopodobieństwo: 9.999999999999977e-11\n",
      "Liczba sukcesów 1: prawdopodobieństwo: 8.999999999999978e-09\n",
      "Liczba sukcesów 2: prawdopodobieństwo: 3.6449999999999943e-07\n",
      "Liczba sukcesów 3: prawdopodobieństwo: 8.747999999999991e-06\n",
      "Liczba sukcesów 4: prawdopodobieństwo: 0.00013778099999999974\n",
      "Liczba sukcesów 5: prawdopodobieństwo: 0.0014880347999999982\n",
      "Liczba sukcesów 6: prawdopodobieństwo: 0.011160260999999996\n",
      "Liczba sukcesów 7: prawdopodobieństwo: 0.05739562799999997\n",
      "Liczba sukcesów 8: prawdopodobieństwo: 0.1937102444999998\n",
      "Liczba sukcesów 9: prawdopodobieństwo: 0.38742048899999976\n",
      "Liczba sukcesów 10: prawdopodobieństwo: 0.3486784401000001\n"
     ]
    }
   ],
   "source": [
    "n = 10 # liczba prób\n",
    "p = 0.9 # prawdopodobieństwo uzyskania sukcesu\n",
    "\n",
    "# binom.pmf() <- PMF ang. probability mass function, funkcja masy prawdopodobieństwa\n",
    "for k in range(n + 1):\n",
    "    prawdopodobienstwo = stats.binom.pmf(k, n, p)\n",
    "    print(f\"Liczba sukcesów {k}: prawdopodobieństwo: {prawdopodobienstwo}\")"
   ]
  },
  {
   "cell_type": "markdown",
   "id": "bd9e008a-f7ae-44d6-b40c-4476b9cb40c7",
   "metadata": {},
   "source": [
    "## Rozkład beta, czyli prawdopodobieństwo prawdopodobieństw"
   ]
  },
  {
   "cell_type": "markdown",
   "id": "2330f54b-f077-432b-ad8f-76281ad495b4",
   "metadata": {},
   "source": [
    "Rozkład beta to rozkład ciągły na odcinku $[0, 1]$, który modeluje prawdopodobieństwo zmiennej $p$ będącej nieznanym parametrem sukcesu w rozkładzie dwumianowym — czyli to, jak „rozkłada się” nasze przekonanie o wartości $p$ przed i po obserwacji danych.\n",
    "\n",
    "Jeśli rozkład dwumianowy opisuje liczbę sukcesów przy znanym $p$, to rozkład beta opisuje niepewność co do samego $p$, pełniąc funkcję rozkładu a priori lub a posteriori w statystyce bayesowskiej.\n",
    "\n",
    "CDF, czyli ang. *cumulative distribution function*, pol. *dystrybuanta* to funkcja opisująca prawdopodobieństwo, że zmienna losowa $X$ przyjmie wartość mniejszą lub równą pewnej liczbie $x$. Dystrybuanta kumuluje prawdopodobieństwa od $-\\infty$ aż do $x$, pokazując jak rośnie łączna szansa na wyniki nie większe niż $x$. "
   ]
  },
  {
   "cell_type": "markdown",
   "id": "3475c0ea-814a-4639-8504-d528375af3b0",
   "metadata": {},
   "source": [
    "Rozważmy sytuację, w której osiągnęliśmy 8 sukcesów i 2 niepowodzenia. Jak obliczyć prawdopodobieństwo tego, że bazowy wskaźnik sukcesu (prawdopodobieństwo tego, że wystąpi sukces) wynosi mniej lub tyle samo co 90%? Możemy to uczynić za pomocą SciPy:"
   ]
  },
  {
   "cell_type": "code",
   "execution_count": 4,
   "id": "ff6a83f4-fa3d-461e-ba5f-df8965a1da00",
   "metadata": {},
   "outputs": [
    {
     "name": "stdout",
     "output_type": "stream",
     "text": [
      "0.7748409780000002\n"
     ]
    }
   ],
   "source": [
    "a = 8 # liczba sukcesów\n",
    "b = 2 # liczba niepowodzeń\n",
    "\n",
    "# beta.cdf() <- dystrybuanta\n",
    "p = stats.beta.cdf(.90, a, b)\n",
    "\n",
    "print(p)"
   ]
  },
  {
   "cell_type": "markdown",
   "id": "f78f11d1-a930-4c6d-babc-4ff8d5bfb3ef",
   "metadata": {},
   "source": [
    "Zatem takie prawdopodobieństwo wynosi ok. 77,5%. Jeżeli chcemy znaleźć prawdopodobieństwo, że bazowy wskaźnik sukcesu wynosi 90% lub więcej, wystarczy odjąć od 1.0 naszą dystrybuantę:"
   ]
  },
  {
   "cell_type": "code",
   "execution_count": 5,
   "id": "c61fca2e-c3ac-450a-8dc4-eab644e95ec1",
   "metadata": {},
   "outputs": [
    {
     "name": "stdout",
     "output_type": "stream",
     "text": [
      "0.22515902199999982\n"
     ]
    }
   ],
   "source": [
    "a = 8\n",
    "b = 2\n",
    "\n",
    "p = 1.0 - stats.beta.cdf(.90, a, b)\n",
    "\n",
    "print(p)"
   ]
  },
  {
   "cell_type": "markdown",
   "id": "71b39187-73f7-494f-b7e5-7e3992ffa806",
   "metadata": {},
   "source": [
    "Załóżmy, że przeprowadzamy eksperyment i staramy się sprawdzić, czy nasze założenie o poprawności wskaźnika sukcesu, który ustaliliśmy na 90%, jest poprawne. Jeśli wykonaliśmy np. 8/10 pomyślnych testów, to istnieje ok. 22,5% szansy na to, że nasz założony wskaźnik sukcesu jest równy 90% lub wyższy. Może to oznaczać, że jest on niepoprawny, ale nie musi - należałoby w tym celu przeprowadzić więcej prób."
   ]
  }
 ],
 "metadata": {
  "kernelspec": {
   "display_name": "Python 3 (ipykernel)",
   "language": "python",
   "name": "python3"
  },
  "language_info": {
   "codemirror_mode": {
    "name": "ipython",
    "version": 3
   },
   "file_extension": ".py",
   "mimetype": "text/x-python",
   "name": "python",
   "nbconvert_exporter": "python",
   "pygments_lexer": "ipython3",
   "version": "3.13.3"
  }
 },
 "nbformat": 4,
 "nbformat_minor": 5
}
